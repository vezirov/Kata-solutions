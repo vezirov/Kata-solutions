{
 "cells": [
  {
   "cell_type": "markdown",
   "metadata": {},
   "source": [
    "CodeWars Kata problems"
   ]
  },
  {
   "cell_type": "code",
   "execution_count": null,
   "metadata": {},
   "outputs": [],
   "source": [
    "#CamelCase+hashtag\n",
    "\n",
    "def generate_hashtag(s):\n",
    "    if len(s)<140 and len(s)>0:\n",
    "        return \"#\"+s.strip().title().replace(\" \",\"\")\n",
    "    return False\n",
    "\n",
    "#print(generate_hashtag(\"he heh vah\"))"
   ]
  },
  {
   "cell_type": "code",
   "execution_count": null,
   "metadata": {},
   "outputs": [],
   "source": [
    "#What's a Perfect Power anyway?\n",
    "def isPP(n):\n",
    "    for k in range(2, n):\n",
    "        for m in range(2, n):\n",
    "            result = m ** k\n",
    "            if result > n:\n",
    "                break # break the inner loop only\n",
    "            elif result == n:\n",
    "                return (m, k)\n",
    "    return None\n",
    "\n",
    "print(isPP(65535))"
   ]
  },
  {
   "cell_type": "code",
   "execution_count": null,
   "metadata": {},
   "outputs": [],
   "source": [
    "##What's a Perfect Power anyway? Best solution!\n",
    "from math import log\n",
    "def isPP(n):\n",
    "    for m in range(2,int(n**0.5)+1):\n",
    "        k = round(log(n, m), 25)\n",
    "        if k % 1 == 0:\n",
    "            return [m ,k]\n",
    "    return\n",
    "\n",
    "print(isPP(27))"
   ]
  },
  {
   "cell_type": "code",
   "execution_count": null,
   "metadata": {},
   "outputs": [],
   "source": [
    "#sumOfPairs\n",
    "'''def sum_pairs(lst, s):\n",
    "    cache = set()\n",
    "    for i in lst:\n",
    "        if s - i in cache:\n",
    "            return [s - i, i]\n",
    "        cache.add(i)\n",
    "'''\n",
    "def sum_pairs(ints, s):\n",
    "    for Indx,Say in enumerate(ints):\n",
    "        for Indx2 in range(Indx+1,len(ints)):\n",
    "            if s == ints[Indx] + ints[Indx2] and ints[Indx] != ints[Indx2]:\n",
    "                return [Say,ints[Indx2]]\n",
    "    return None\n",
    "l5= [10, 5, 2, 3, 7, 5]\n",
    "print(sum_pairs(l5,10))"
   ]
  },
  {
   "cell_type": "code",
   "execution_count": null,
   "metadata": {},
   "outputs": [],
   "source": [
    "#Domain Name\n",
    "def domain_name(url):\n",
    "    return url.split(\"//\")[-1].split(\"www.\")[-1].split(\".\")[0]\n"
   ]
  },
  {
   "cell_type": "code",
   "execution_count": null,
   "metadata": {},
   "outputs": [],
   "source": [
    "#Strip Comment\n",
    "def solution(string, markers):\n",
    "    lines = string.split('\\n')\n",
    "    for i, line in enumerate(lines):\n",
    "        for marker in markers:\n",
    "            index = line.find(marker)\n",
    "            if index != -1:\n",
    "                line = line[:index]\n",
    "        lines[i] = line.rstrip(' ')\n",
    "    return '\\n'.join(lines)\n",
    "    \n",
    "print(solution(\"apples, pears # and bananas\\ngrapes\\nbananas !apples\", [\"#\", \"!\"]))"
   ]
  },
  {
   "cell_type": "code",
   "execution_count": null,
   "metadata": {},
   "outputs": [],
   "source": [
    " \n",
    "def make_readable(seconds):\n",
    "    hours, seconds = divmod(seconds, 60 ** 2)\n",
    "    minutes, seconds = divmod(seconds, 60)\n",
    "    return '{:02}:{:02}:{:02}'.format(hours, minutes, seconds)\n",
    "\n",
    "print(make_readable(0))"
   ]
  },
  {
   "cell_type": "code",
   "execution_count": null,
   "metadata": {},
   "outputs": [],
   "source": [
    "\"{0:#b}\".format(2149583361)"
   ]
  },
  {
   "cell_type": "code",
   "execution_count": null,
   "metadata": {},
   "outputs": [],
   "source": [
    "'''import re\n",
    "def int32_to_ip(int32):\n",
    "    x = \"{0:#b}\".format(int32)\n",
    "    bin_numb = re.findall('........',x[2:])\n",
    "    return '{:d}.{:d}.{:d}.{:d}'.format(int(bin_numb[0],2),int(bin_numb[1],2),int(bin_numb[2],2),int(bin_numb[3],2))\n",
    "\n",
    "int32_to_ip(1202547395)'''\n",
    "\n",
    "def int32_to_ip(int32):\n",
    "    return '{}.{}.{}.{}'.format(*int32.to_bytes(4, 'big'))\n",
    "\n",
    "\n",
    "int32_to_ip(256)"
   ]
  },
  {
   "cell_type": "code",
   "execution_count": null,
   "metadata": {},
   "outputs": [],
   "source": [
    "def permutations(string):\n",
    "    result = set([string])\n",
    "    if len(string) == 2:\n",
    "        result.add(string[1] + string[0])\n",
    "\n",
    "    elif len(string) > 2:\n",
    "        for i, c in enumerate(string):\n",
    "            for s in permutations(string[:i] + string[i + 1:]):\n",
    "                result.add(c + s)\n",
    "\n",
    "    return list(result)\n",
    "\n",
    "permutations('abab')"
   ]
  },
  {
   "cell_type": "code",
   "execution_count": null,
   "metadata": {},
   "outputs": [],
   "source": [
    "import numpy as np\n",
    "\n",
    "def fib(n):\n",
    "  if n < 2 and n > -2:\n",
    "      return n\n",
    "  negative = False\n",
    "  if n < 0:\n",
    "      negative = True\n",
    "      n = abs(n)\n",
    "\n",
    "  A = np.matrix([[0,1],[1,1]], dtype=object)\n",
    "  Ap = pow(A, n-1)\n",
    "  result = Ap * np.matrix([[0],[1]])\n",
    "  if negative and (abs(n)+1) % 2 != 0:\n",
    "      return -(result[1])\n",
    "  else:\n",
    "      return (result[1])\n",
    "\n",
    "fib(-3)"
   ]
  },
  {
   "cell_type": "code",
   "execution_count": null,
   "metadata": {},
   "outputs": [],
   "source": [
    "def disemvowel(s):\n",
    "    removeStr = 'aeiouAEIOU'\n",
    "    for key in removeStr:\n",
    "        s = s.replace(key,'')\n",
    "    return s\n",
    "\n",
    "disemvowel('This site is shit Lol hAha')"
   ]
  },
  {
   "cell_type": "code",
   "execution_count": null,
   "metadata": {},
   "outputs": [],
   "source": [
    "def to_jaden_case(s):\n",
    "    k = ''\n",
    "    s = s.split()\n",
    "    for key in s:\n",
    "        k += key[0].upper() + key[1:] + ' '\n",
    "    return k[:-1]\n",
    "\n",
    "\n",
    "s = \"How can mirrors be real if our eyes aren't real\"\n",
    "to_jaden_case(s)\n"
   ]
  },
  {
   "cell_type": "code",
   "execution_count": null,
   "metadata": {},
   "outputs": [],
   "source": [
    "def square_digits(number):\n",
    "      strOfDigits = ''\n",
    "      digits = list(str(number))\n",
    "\n",
    "      for j in digits:\n",
    "\n",
    "        strOfDigits += str(int(j)**2)\n",
    "      return strOfDigits    \n",
    "\n",
    "square_digits(9118)\n",
    "\n",
    "\"\"\"\n",
    "def square_digits(num):\n",
    "    return int(''.join(str(int(d)**2) for d in str(num)))\n",
    "square_digits(9118)\n",
    "\"\"\""
   ]
  },
  {
   "cell_type": "code",
   "execution_count": null,
   "metadata": {},
   "outputs": [],
   "source": [
    "s = 'asdfadsfd'\n",
    "dictS = []\n",
    "\n",
    "if len(s) % 2 != 0:\n",
    "    s += '_'\n",
    "for i in range(0,len(s),2):\n",
    "    dictS.append((s[i:i+2]))\n",
    "    #return dictS \n",
    "dictS\n",
    "\n",
    "\"\"\"\"\n",
    "import re\n",
    "\n",
    "def solution(s):\n",
    "    return re.findall('..', s + '_')\n",
    "\"\"\""
   ]
  },
  {
   "cell_type": "code",
   "execution_count": null,
   "metadata": {},
   "outputs": [],
   "source": [
    "import re\n",
    "def create_phone_number(n):\n",
    "\n",
    "\n",
    "    return \n",
    "\n",
    "\n",
    "s = ('1234567890')\n",
    "print('(%s%s%s)-%s%s%s-%s%s%s%s' % (s[0],s[1],s[2],s[3],s[4],s[5],s[6],s[7],s[8],s[9]))\n"
   ]
  },
  {
   "cell_type": "code",
   "execution_count": null,
   "metadata": {},
   "outputs": [],
   "source": [
    "\n",
    "def valid_parentheses(str1):\n",
    "        stack, pchar = [], {\"(\": \")\"}\n",
    "        for parenthese in str1:\n",
    "            if parenthese == '(':\n",
    "                stack.append(parenthese)\n",
    "            elif parenthese != ')' :\n",
    "              continue\n",
    "            elif len(stack) == 0 or pchar[stack.pop()] != parenthese:\n",
    "                return False\n",
    "        return len(stack) == 0\n",
    "\n",
    "valid_parentheses('hi(hi)()()')\n",
    "\n",
    "\n",
    "\"\"\"\n",
    "def valid_parentheses(string):\n",
    "    string = \"\".join(ch for ch in string if ch in \"()\")\n",
    "    while \"()\" in string: string = string.replace(\"()\", \"\")\n",
    "    return not string\n",
    "valid_parentheses('hi(hi())()()')\n",
    "\"\"\""
   ]
  },
  {
   "cell_type": "code",
   "execution_count": null,
   "metadata": {},
   "outputs": [],
   "source": [
    "\n",
    "def zeros(n):\n",
    "    i = n\n",
    "    sum = 0\n",
    "    while i >= 5:\n",
    "        i_j = divmod(i,5)\n",
    "        i = i_j[0]\n",
    "        sum += i_j[0]\n",
    "    return sum  \n",
    "\n",
    "print(zeros(279050395))\n",
    "\n",
    "\"\"\"\n",
    "def zeros(n):\n",
    "    return 0 if n < 5 else n/5 + zeros(n/5)\n",
    "\"\"\""
   ]
  },
  {
   "cell_type": "code",
   "execution_count": null,
   "metadata": {},
   "outputs": [],
   "source": [
    "class CustomInt(int):\n",
    "    def __call__(self, v):\n",
    "        return CustomInt(self + v)\n",
    "\n",
    "def add(v):\n",
    "    return CustomInt(v)\n",
    "\n",
    "print(add('Hello')('World')('!'))\n",
    "\n",
    "\"\"\"\n",
    "class add(int):\n",
    "    def __call__(self,n):\n",
    "        return add(self+n)\n",
    "\"\"\""
   ]
  },
  {
   "cell_type": "code",
   "execution_count": null,
   "metadata": {},
   "outputs": [],
   "source": [
    "import itertools\n",
    "def line_ok(e):\n",
    "    if len(set(e)) != 9: return False\n",
    "    for i in range(len(e)):\n",
    "        if e[i] not in range(1,10): return False\n",
    "    return True\n",
    "    \n",
    "def checker(grid):\n",
    "    bad_rows = [ False for row in grid if not line_ok(row)]\n",
    "    grid = list(zip(*grid))\n",
    "    bad_cols = [ False for col in grid if not line_ok(col)]\n",
    "    squares = []\n",
    "    for i in range(0,9,3):\n",
    "        for j in range(0,9,3):\n",
    "            square = list(itertools.chain.from_iterable(row[j:j+3] for row in grid[i:i+3]))\n",
    "            squares.append(square)\n",
    "    bad_squares = [False for sq in squares if not line_ok(sq)]\n",
    "    return 'Try again'  if any([bad_cols,bad_rows,bad_squares]) else 'Finished!'\n",
    "\n",
    "\n",
    "sudoku_correct = [[1, 3, 2, 5, 7, 9, 4, 6, 8]\n",
    "                        ,[4, 9, 8, 2, 6, 1, 3, 7, 5]\n",
    "                        ,[7, 5, 6, 3, 8, 4, 2, 1, 9]\n",
    "                        ,[6, 4, 3, 1, 5, 8, 7, 9, 2]\n",
    "                        ,[5, 2, 1, 7, 9, 3, 8, 4, 6]\n",
    "                        ,[9, 8, 7, 4, 2, 6, 5, 3, 1]\n",
    "                        ,[2, 1, 4, 9, 3, 5, 6, 8, 7]\n",
    "                        ,[3, 6, 5, 8, 1, 7, 9, 2, 4]\n",
    "                        ,[8, 7, 9, 6, 4, 2, 1, 3, 5]]\n",
    "print(checker(sudoku_correct))\n"
   ]
  },
  {
   "cell_type": "code",
   "execution_count": null,
   "metadata": {},
   "outputs": [],
   "source": [
    "def print_even(test_list) :\n",
    "    for i in test_list:\n",
    "        if i % 2 == 0:\n",
    "            yield i\n",
    " \n",
    "# initializing list\n",
    "test_list = [1, 4, 5, 6, 7]\n",
    " \n",
    "# printing initial list\n",
    "print (\"The original list is : \" +  str(test_list))\n",
    " \n",
    "# printing even numbers\n",
    "print (\"The even numbers in list are : \",)\n",
    "for j in print_even(test_list):\n",
    "    print (j, end = \" \")"
   ]
  },
  {
   "cell_type": "code",
   "execution_count": 2,
   "metadata": {},
   "outputs": [
    {
     "name": "stdout",
     "output_type": "stream",
     "text": [
      "(0, 0) 0\n",
      "(0, 1) 1\n",
      "(0, 2) 2\n",
      "(1, 0) 3\n",
      "(1, 1) 4\n",
      "(1, 2) 5\n",
      "(2, 0) 6\n",
      "(2, 1) 7\n",
      "(2, 2) 8\n",
      "(0, 0) 0\n",
      "(0, 1) 1\n",
      "(0, 2) 2\n",
      "(1, 0) 3\n",
      "(1, 1) 4\n",
      "(1, 2) 5\n",
      "(2, 0) 6\n",
      "(2, 1) 7\n",
      "(2, 2) 8\n"
     ]
    }
   ],
   "source": [
    "import numpy as np\n",
    "\n",
    "Z = np.arange(9).reshape(3,3)\n",
    "for index, value in np.ndenumerate(Z):\n",
    "    print(index, value)\n",
    "for index in np.ndindex(Z.shape):\n",
    "    print(index, Z[index])"
   ]
  },
  {
   "cell_type": "code",
   "execution_count": 3,
   "metadata": {},
   "outputs": [
    {
     "name": "stdout",
     "output_type": "stream",
     "text": [
      "[3, 2]\n"
     ]
    }
   ],
   "source": [
    "# \n",
    "from math import ceil, log, sqrt\n",
    "\n",
    "def isPP(n):\n",
    "    for i in range(2, int(n**.5) + 1):\n",
    "        number = n\n",
    "        times = 0\n",
    "        while number % i == 0:\n",
    "            number /= i\n",
    "            times += 1\n",
    "            if number == 1:\n",
    "                return [i, times]\n",
    "    return None\n",
    "\n",
    "print(isPP(9))"
   ]
  },
  {
   "cell_type": "code",
   "execution_count": 13,
   "metadata": {},
   "outputs": [
    {
     "name": "stdout",
     "output_type": "stream",
     "text": [
      "[12, 15, 14, 35]\n"
     ]
    },
    {
     "data": {
      "text/plain": [
       "[[2, 26], [3, 27], [5, 50], [7, 49]]"
      ]
     },
     "execution_count": 13,
     "metadata": {},
     "output_type": "execute_result"
    }
   ],
   "source": [
    "\n",
    "def sum_for_list(lst):\n",
    "    print(lst)\n",
    "    PrimeLst = []\n",
    "    FinalList = []\n",
    "    for n in lst:\n",
    "        PrimeLst = list(set(PrimeLst).union(set(prime_factors(n))))\n",
    "    PrimeLst.sort()\n",
    "    for n in PrimeLst:\n",
    "        sum = 0\n",
    "        listN = [n]\n",
    "        for m in lst:\n",
    "            if m%n ==0:\n",
    "                sum = sum+m\n",
    "        listN.append(sum)\n",
    "        FinalList.append(listN)\n",
    "    # print (FinalList)\n",
    "    return FinalList\n",
    "\n",
    "def prime_factors(n):\n",
    "    i = 2\n",
    "    n = abs(n)\n",
    "    factors = []\n",
    "    while i * i <= n:         \n",
    "        if n % i:             \n",
    "            i += 1         \n",
    "        else:             \n",
    "            n //= i             \n",
    "            factors.append(i)     \n",
    "    if n > 1:\n",
    "        factors.append(n)\n",
    "    return factors\n",
    "\n",
    "(sum_for_list([12, 15, 14 , 35]))"
   ]
  },
  {
   "cell_type": "code",
   "execution_count": 24,
   "metadata": {},
   "outputs": [
    {
     "name": "stdout",
     "output_type": "stream",
     "text": [
      "Counter({'e': 9, 'ddd': 5, 'bb': 4, 'aa': 3, 'cc': 2})\n"
     ]
    },
    {
     "data": {
      "text/plain": [
       "[9, 5, 4]"
      ]
     },
     "execution_count": 24,
     "metadata": {},
     "output_type": "execute_result"
    }
   ],
   "source": [
    "# Most frequently used words in a text\n",
    "\n",
    "\n",
    "# use the Counter module\n",
    "from collections import Counter\n",
    "# use the regex module\n",
    "import re\n",
    "\n",
    "def top_3_words(text):\n",
    "    # count the input, pass through a regex and lowercase it\n",
    "    c = Counter(re.findallr.(r\"[a-z']+\", re.sub(r\" '+ \", \" \", text.lower())))\n",
    "    # return the `most common` 3 items\n",
    "    print(c)\n",
    "    return [_ for w,_ in c.most_common(3)]\n",
    "\n",
    "\n",
    "top_3_words(\"e e e e DDD ddd e e DdD: ddd ddd aa aA Aa, bb cc cC bb bb bb e e e\")"
   ]
  },
  {
   "cell_type": "code",
   "execution_count": 5,
   "metadata": {},
   "outputs": [
    {
     "name": "stdout",
     "output_type": "stream",
     "text": [
      "0\n"
     ]
    }
   ],
   "source": [
    "# \n",
    "def parse_int(string):\n",
    "    dict = {\n",
    "            # 'zero':0,\n",
    "            'one':1,\n",
    "            'two':2,\n",
    "            'three':3,\n",
    "            'four':4,\n",
    "            'five':5,\n",
    "            'six':6,\n",
    "            'seven':7,\n",
    "            'eight':8,\n",
    "            'nine':9,\n",
    "            'ten':10,\n",
    "            'eleven':11,\n",
    "            'twelve':12,\n",
    "            'thirteen':13,\n",
    "            'fourteen':14,\n",
    "            'fifteen':15,\n",
    "            'sixteen':16,\n",
    "            'seventeen':17,\n",
    "            'eighteen':18,\n",
    "            'nineteen':19,\n",
    "            'twenty':20,\n",
    "            'thirty':30,\n",
    "            'forty':40,\n",
    "            'fifty':50,\n",
    "            'sixty':60,\n",
    "            'seventy':70,\n",
    "            'eighty':80,\n",
    "            'ninety':90,\n",
    "            'hundred':100,\n",
    "            'million':1000000}\n",
    "    result = 0\n",
    "    temp = []\n",
    "\n",
    "    for s in string.split('thousand'):\n",
    "        sum = 0\n",
    "        for i in s.strip().split():\n",
    "            if i.find('-') != -1:\n",
    "                for j in i.split('-'):\n",
    "                   if j in dict:\n",
    "                       sum += dict.get(j)\n",
    "            else:\n",
    "                if i in dict:\n",
    "                    if i == 'hundred':\n",
    "                        sum *= dict.get(i)\n",
    "                    elif i == 'million':\n",
    "                        sum *= dict.get(i)\n",
    "                    else:\n",
    "                        sum += dict.get(i)\n",
    "        temp.append(sum)\n",
    "\n",
    "    if len(temp) > 1:\n",
    "        result = temp[0] * 1000 + temp[1]\n",
    "    elif len(temp) == 1:\n",
    "        result = temp[0]\n",
    "\n",
    "    return result\n",
    "\n",
    "print(parse_int('zero'))\n",
    "\n"
   ]
  },
  {
   "cell_type": "code",
   "execution_count": null,
   "metadata": {},
   "outputs": [],
   "source": []
  }
 ],
 "metadata": {
  "interpreter": {
   "hash": "20a9e06a1eee47c4abbed4ec8225ad91d78d9800d202b71b6b0a6e47016c6abd"
  },
  "kernelspec": {
   "display_name": "Python 3.9.7 ('base')",
   "language": "python",
   "name": "python3"
  },
  "language_info": {
   "codemirror_mode": {
    "name": "ipython",
    "version": 3
   },
   "file_extension": ".py",
   "mimetype": "text/x-python",
   "name": "python",
   "nbconvert_exporter": "python",
   "pygments_lexer": "ipython3",
   "version": "3.9.7"
  },
  "orig_nbformat": 4
 },
 "nbformat": 4,
 "nbformat_minor": 2
}
